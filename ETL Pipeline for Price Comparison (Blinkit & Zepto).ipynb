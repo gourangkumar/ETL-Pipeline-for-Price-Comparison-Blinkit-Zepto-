{
 "cells": [
  {
   "cell_type": "code",
   "execution_count": null,
   "id": "5cdeb223-a2e1-4ec6-b121-d61459ae0fff",
   "metadata": {
    "scrolled": true
   },
   "outputs": [],
   "source": [
    "!pip install requests beautifulsoup4 pandas"
   ]
  },
  {
   "cell_type": "code",
   "execution_count": null,
   "id": "15a8ae7b-1d53-45fb-8449-7722875fa191",
   "metadata": {},
   "outputs": [],
   "source": [
    "pip install selenium webdriver-manager\n"
   ]
  },
  {
   "cell_type": "code",
   "execution_count": null,
   "id": "58f63eab-0782-4b7d-8b29-ee56b46b7be9",
   "metadata": {},
   "outputs": [],
   "source": [
    "from selenium import webdriver\n",
    "from selenium.webdriver.chrome.service import Service\n",
    "from selenium.webdriver.chrome.options import Options\n",
    "from selenium.webdriver.common.by import By\n",
    "from selenium.webdriver.common.keys import Keys\n",
    "from webdriver_manager.chrome import ChromeDriverManager\n",
    "import time"
   ]
  },
  {
   "cell_type": "code",
   "execution_count": null,
   "id": "44d27883-0a7f-4bc9-8264-06fcb6217742",
   "metadata": {},
   "outputs": [],
   "source": [
    "def scrape_blinkit_selenium(search_query):\n",
    "    \"\"\"Scrape Blinkit using Selenium (handles JavaScript).\"\"\"\n",
    "    \n",
    "    # Set up Selenium with headless mode\n",
    "    options = Options()\n",
    "    options.add_argument(\"--headless\")  # Run in background\n",
    "    options.add_argument(\"--disable-blink-features=AutomationControlled\")  # Evade detection\n",
    "    options.add_argument(\"--no-sandbox\")\n",
    "    options.add_argument(\"--disable-dev-shm-usage\")\n",
    "    options.add_argument(\"user-agent=Mozilla/5.0 (Windows NT 10.0; Win64; x64) AppleWebKit/537.36 (KHTML, like Gecko) Chrome/114.0.0.0 Safari/537.36\")\n",
    "\n",
    "    # Initialize WebDriver\n",
    "    service = Service(ChromeDriverManager().install())\n",
    "    driver = webdriver.Chrome(service=service, options=options)\n",
    "\n",
    "    try:\n",
    "        url = f\"https://www.blinkit.com/s/?q={search_query}\"\n",
    "        driver.get(url)\n",
    "        time.sleep(5)  # Allow page to load\n",
    "\n",
    "        # Extract product details\n",
    "        products = driver.find_elements(By.CLASS_NAME, \"ProductCard__details\")\n",
    "        results = []\n",
    "        \n",
    "        for product in products:\n",
    "            try:\n",
    "                title = product.find_element(By.CLASS_NAME, \"ProductCard__title\").text.strip()\n",
    "                price = product.find_element(By.CLASS_NAME, \"ProductCard__price\").text.strip()\n",
    "                results.append({\"title\": title, \"price\": price})\n",
    "            except:\n",
    "                continue\n",
    "\n",
    "        return results\n",
    "\n",
    "    except Exception as e:\n",
    "        print(f\"Error scraping Blinkit: {e}\")\n",
    "        return []\n",
    "    \n",
    "    finally:\n",
    "        driver.quit()\n",
    "\n",
    "# Example usage\n",
    "search_query = \"AMUL\"\n",
    "blinkit_results = scrape_blinkit_selenium(search_query)\n",
    "print(\"Blinkit Results:\", blinkit_results)\n"
   ]
  },
  {
   "cell_type": "code",
   "execution_count": null,
   "id": "78e02d24-b344-4a2f-978a-24ab57300d30",
   "metadata": {},
   "outputs": [],
   "source": []
  },
  {
   "cell_type": "code",
   "execution_count": null,
   "id": "31a48c89-3c4b-40a1-9414-ffdd761b0c09",
   "metadata": {},
   "outputs": [],
   "source": []
  },
  {
   "cell_type": "code",
   "execution_count": null,
   "id": "4a3e2e06-b330-49d9-bc6d-ba287129600b",
   "metadata": {},
   "outputs": [],
   "source": [
    "import requests\n",
    "from bs4 import BeautifulSoup\n",
    "import random\n",
    "import time"
   ]
  },
  {
   "cell_type": "code",
   "execution_count": null,
   "id": "f8956c0c-9e29-42b9-97ff-bf4c50138b40",
   "metadata": {},
   "outputs": [],
   "source": [
    "USER_AGENTS = [\n",
    "    \"Mozilla/5.0 (Windows NT 10.0; Win64; x64) AppleWebKit/537.36 (KHTML, like Gecko) Chrome/114.0.0.0 Safari/537.36\",\n",
    "    \"Mozilla/5.0 (Macintosh; Intel Mac OS X 10_15_7) AppleWebKit/537.36 (KHTML, like Gecko) Chrome/114.0.5735.110 Safari/537.36\",\n",
    "    \"Mozilla/5.0 (X11; Ubuntu; Linux x86_64; rv:112.0) Gecko/20100101 Firefox/112.0\",\n",
    "    \"Mozilla/5.0 (iPhone; CPU iPhone OS 16_0 like Mac OS X) AppleWebKit/537.36 (KHTML, like Gecko) Chrome/114.0.0.0 Mobile Safari/537.36\",\n",
    "]"
   ]
  },
  {
   "cell_type": "code",
   "execution_count": null,
   "id": "b442a239-7c2d-4a31-8adf-c859270c8b75",
   "metadata": {},
   "outputs": [],
   "source": [
    "def get_random_headers():\n",
    "    \"\"\"Generate randomized headers.\"\"\"\n",
    "    return {\n",
    "        \"User-Agent\": random.choice(USER_AGENTS),\n",
    "        \"Accept-Language\": \"en-US,en;q=0.9\",\n",
    "        \"Referer\": \"https://www.google.com/\"\n",
    "    }"
   ]
  },
  {
   "cell_type": "code",
   "execution_count": null,
   "id": "aea473dd-ba45-442a-af94-cbc51ecc0ba2",
   "metadata": {},
   "outputs": [],
   "source": [
    "def scrape_blinkit(search_query):\n",
    "    \"\"\"Scrape product data from Blinkit.\"\"\"\n",
    "    url = f\"https://www.blinkit.com/s/?q={search_query}\"\n",
    "    \n",
    "    for attempt in range(3):  # Retry up to 3 times\n",
    "        try:\n",
    "            response = requests.get(url, headers=get_random_headers(), timeout=10)\n",
    "            \n",
    "            if response.status_code == 200:\n",
    "                soup = BeautifulSoup(response.text, 'html.parser')\n",
    "                products = soup.find_all(\"div\", class_=\"ProductCard__details\")  # Adjust class based on Blinkit's structure\n",
    "                \n",
    "                results = []\n",
    "                for product in products:\n",
    "                    title = product.find(\"div\", class_=\"ProductCard__title\").text.strip()\n",
    "                    price = product.find(\"div\", class_=\"ProductCard__price\").text.strip()\n",
    "                    results.append({\"title\": title, \"price\": price})\n",
    "                \n",
    "                return results\n",
    "            \n",
    "            elif response.status_code == 403:\n",
    "                print(\"Access denied! You might be blocked. Retrying with delay...\")\n",
    "            \n",
    "            elif response.status_code == 429:\n",
    "                print(\"Rate limited! Retrying after some delay...\")\n",
    "            \n",
    "        except requests.exceptions.RequestException as e:\n",
    "            print(f\"Error fetching Blinkit: {e}\")\n",
    "        \n",
    "        time.sleep(random.uniform(5, 10))  # Random delay between 5-10 sec before retrying\n",
    "    \n",
    "    print(\"Failed to fetch data after multiple attempts.\")\n",
    "    return []\n",
    "\n"
   ]
  },
  {
   "cell_type": "code",
   "execution_count": null,
   "id": "209318e1-912d-428c-a570-d6906ac4d728",
   "metadata": {},
   "outputs": [],
   "source": [
    "def scrape_zepto(search_query):\n",
    "    \"\"\"Scrape product data from Zepto.\"\"\"\n",
    "    url = f\"https://www.zeptonow.com/search?q={search_query}\"\n",
    "    \n",
    "    for attempt in range(3):  # Retry up to 3 times\n",
    "        try:\n",
    "            response = requests.get(url, headers=get_random_headers(), timeout=10)\n",
    "            \n",
    "            if response.status_code == 200:\n",
    "                soup = BeautifulSoup(response.text, 'html.parser')\n",
    "                products = soup.find_all(\"div\", class_=\"ProductCard\")  # Adjust class based on Zepto's structure\n",
    "                \n",
    "                results = []\n",
    "                for product in products:\n",
    "                    title = product.find(\"div\", class_=\"ProductCard__title\").text.strip()\n",
    "                    price = product.find(\"div\", class_=\"ProductCard__price\").text.strip()\n",
    "                    results.append({\"title\": title, \"price\": price})\n",
    "                \n",
    "                return results\n",
    "            \n",
    "            elif response.status_code == 403:\n",
    "                print(\"Access denied! You might be blocked. Retrying with delay...\")\n",
    "            \n",
    "            elif response.status_code == 429:\n",
    "                print(\"Rate limited! Retrying after some delay...\")\n",
    "            \n",
    "        except requests.exceptions.RequestException as e:\n",
    "            print(f\"Error fetching Zepto: {e}\")\n",
    "        \n",
    "        time.sleep(random.uniform(5, 10))  # Random delay between 5-10 sec before retrying\n",
    "    \n",
    "    print(\"Failed to fetch data after multiple attempts.\")\n",
    "    return []\n"
   ]
  },
  {
   "cell_type": "code",
   "execution_count": null,
   "id": "83c849c2-957b-4b50-9c09-0f375e234172",
   "metadata": {},
   "outputs": [],
   "source": [
    "# Example usage\n",
    "search_query = \"milk\"\n",
    "blinkit_results = scrape_blinkit(search_query)\n",
    "zepto_results = scrape_zepto(search_query)"
   ]
  },
  {
   "cell_type": "code",
   "execution_count": null,
   "id": "74eab837-28d1-4012-bacd-5465996c4166",
   "metadata": {},
   "outputs": [],
   "source": [
    "print(\"Blinkit Results:\", blinkit_results)\n",
    "print(\"Zepto Results:\", zepto_results)"
   ]
  },
  {
   "cell_type": "code",
   "execution_count": null,
   "id": "fac5ebb9-254a-42fd-863d-623e01ddd030",
   "metadata": {},
   "outputs": [],
   "source": []
  },
  {
   "cell_type": "code",
   "execution_count": null,
   "id": "f913ddd7-699e-4715-a7d8-9ac1713104ed",
   "metadata": {},
   "outputs": [],
   "source": []
  },
  {
   "cell_type": "code",
   "execution_count": null,
   "id": "8b20aa4e-bc08-4081-9893-3be512eee80a",
   "metadata": {},
   "outputs": [],
   "source": []
  },
  {
   "cell_type": "code",
   "execution_count": null,
   "id": "1f654d18-c19c-4f53-8f66-ae6035de110c",
   "metadata": {},
   "outputs": [],
   "source": []
  },
  {
   "cell_type": "code",
   "execution_count": null,
   "id": "039f42f6-fd65-47a7-8c29-ac3d82784cd6",
   "metadata": {},
   "outputs": [],
   "source": [
    "def scrape_blinkit(search_query):\n",
    "    url = f\"https://www.blinkit.com/s/?q={search_query}\"\n",
    "    headers = {\"User-Agent\": \"Mozilla/5.0\"}\n",
    "    response = requests.get(url, headers=headers)\n",
    "\n",
    "    if response.status_code != 200:\n",
    "        print(\"Failed to retrieve Blinkit data\")\n",
    "        return []\n",
    "\n",
    "    soup = BeautifulSoup(response.text, \"html.parser\")\n",
    "    products = soup.find_all(\"div\", class_=\"ProductCard__Details\")\n",
    "\n",
    "    blinkit_data = []\n",
    "    for product in products:\n",
    "        name = product.find(\"div\", class_=\"ProductCard__Name\")\n",
    "        price = product.find(\"div\", class_=\"ProductCard__Price\")\n",
    "        availability = \"In stock\" if \"Out of stock\" not in product.text else \"Out of stock\"\n",
    "\n",
    "        if name and price:\n",
    "            blinkit_data.append({\n",
    "                \"platform\": \"Blinkit\",\n",
    "                \"name\": name.text.strip(),\n",
    "                \"price\": price.text.strip(),\n",
    "                \"availability\": availability\n",
    "            })\n",
    "\n",
    "    return blinkit_data\n",
    "\n",
    "\n",
    "def scrape_zepto(search_query):\n",
    "    url = f\"https://www.zeptonow.com/search?q={search_query}\"\n",
    "    headers = {\"User-Agent\": \"Mozilla/5.0\"}\n",
    "    response = requests.get(url, headers=headers)\n",
    "\n",
    "    if response.status_code != 200:\n",
    "        print(\"Failed to retrieve Zepto data\")\n",
    "        return []\n",
    "\n",
    "    soup = BeautifulSoup(response.text, \"html.parser\")\n",
    "    products = soup.find_all(\"div\", class_=\"ProductItem__Details\")\n",
    "\n",
    "    zepto_data = []\n",
    "    for product in products:\n",
    "        name = product.find(\"div\", class_=\"ProductItem__Name\")\n",
    "        price = product.find(\"div\", class_=\"ProductItem__Price\")\n",
    "        availability = \"In stock\" if \"Out of stock\" not in product.text else \"Out of stock\"\n",
    "\n",
    "        if name and price:\n",
    "            zepto_data.append({\n",
    "                \"platform\": \"Zepto\",\n",
    "                \"name\": name.text.strip(),\n",
    "                \"price\": price.text.strip(),\n",
    "                \"availability\": availability\n",
    "            })\n",
    "\n",
    "    return zepto_data\n"
   ]
  },
  {
   "cell_type": "code",
   "execution_count": null,
   "id": "1316ed41-6df9-4720-a158-a7e306408905",
   "metadata": {},
   "outputs": [],
   "source": []
  },
  {
   "cell_type": "code",
   "execution_count": null,
   "id": "07277137-6ca8-4769-a2d2-b84328fcd81d",
   "metadata": {},
   "outputs": [],
   "source": []
  },
  {
   "cell_type": "code",
   "execution_count": null,
   "id": "2ef6b253-a49e-44da-ad67-ae0cb6a6b883",
   "metadata": {},
   "outputs": [],
   "source": []
  },
  {
   "cell_type": "code",
   "execution_count": null,
   "id": "97f8e3a8-79cd-4970-9a12-76430a6aeb54",
   "metadata": {},
   "outputs": [],
   "source": []
  },
  {
   "cell_type": "code",
   "execution_count": null,
   "id": "55c1e026-4c16-442c-aebb-aaeeb6433213",
   "metadata": {},
   "outputs": [],
   "source": []
  },
  {
   "cell_type": "code",
   "execution_count": null,
   "id": "0fa8e0f5-9a04-4e17-8509-e33734c75d57",
   "metadata": {},
   "outputs": [],
   "source": []
  },
  {
   "cell_type": "code",
   "execution_count": null,
   "id": "f84787d4-4be8-4c85-b443-607b82d9c491",
   "metadata": {},
   "outputs": [],
   "source": []
  },
  {
   "cell_type": "code",
   "execution_count": null,
   "id": "5e1fb79f-7dab-43ce-9125-6b62a8057560",
   "metadata": {},
   "outputs": [],
   "source": []
  }
 ],
 "metadata": {
  "kernelspec": {
   "display_name": "Python (New)",
   "language": "python",
   "name": "new_python"
  },
  "language_info": {
   "codemirror_mode": {
    "name": "ipython",
    "version": 3
   },
   "file_extension": ".py",
   "mimetype": "text/x-python",
   "name": "python",
   "nbconvert_exporter": "python",
   "pygments_lexer": "ipython3",
   "version": "3.13.1"
  }
 },
 "nbformat": 4,
 "nbformat_minor": 5
}
